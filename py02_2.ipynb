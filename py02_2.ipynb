{
 "cells": [
  {
   "cell_type": "markdown",
   "metadata": {},
   "source": [
    "# 조건문"
   ]
  },
  {
   "cell_type": "code",
   "execution_count": 5,
   "metadata": {},
   "outputs": [
    {
     "name": "stdout",
     "output_type": "stream",
     "text": [
      "[33, 63, 75, 81, 65, 68, 15, 61, 95, 67]\n"
     ]
    }
   ],
   "source": [
    "import random as r\n",
    "\n",
    "lst=list(r.sample(range(1,100),10))\n",
    "print(lst)"
   ]
  },
  {
   "cell_type": "code",
   "execution_count": 15,
   "metadata": {},
   "outputs": [
    {
     "name": "stdout",
     "output_type": "stream",
     "text": [
      "[28, 65, 73, 57, 18, 40, 5, 52, 76, 63]\n",
      "[28, 18, 40, 52, 76]\n",
      "[65, 73, 57, 5, 63]\n"
     ]
    }
   ],
   "source": [
    "even=[]\n",
    "odd=[]\n",
    "\n",
    "lst=list(r.sample(range(1,100),10))\n",
    "print(lst)\n",
    "\n",
    "for i in lst :\n",
    "    if i % 2 == 0 :\n",
    "        even.append(i)\n",
    "\n",
    "    else :\n",
    "        odd.append(i)\n",
    "        \n",
    "print(even)\n",
    "print(odd)"
   ]
  },
  {
   "cell_type": "code",
   "execution_count": 20,
   "metadata": {},
   "outputs": [
    {
     "name": "stdout",
     "output_type": "stream",
     "text": [
      "['FAIL', '재시험', 'PASS', 'FAIL', 'FAIL', 'FAIL', 'FAIL', 'FAIL', 'PASS', '재시험']\n",
      "2\n",
      "2\n",
      "6\n"
     ]
    }
   ],
   "source": [
    "result = []\n",
    "\n",
    "for item in lst :\n",
    "    if item >= 70 : result.append('PASS')\n",
    "    elif item >= 60 : result.append('재시험')\n",
    "    else : result.append('FAIL')\n",
    "\n",
    "print(result)\n",
    "print(result.count('PASS'))\n",
    "print(result.count('재시험'))\n",
    "print(result.count('FAIL'))"
   ]
  },
  {
   "cell_type": "markdown",
   "metadata": {},
   "source": [
    "## 반복문과 if 문을 이용한 리스트 추출"
   ]
  },
  {
   "cell_type": "code",
   "execution_count": 21,
   "metadata": {},
   "outputs": [
    {
     "name": "stdout",
     "output_type": "stream",
     "text": [
      "[73, 76]\n"
     ]
    }
   ],
   "source": [
    "plist = [item for item in lst if item >= 70]\n",
    "print(plist)"
   ]
  },
  {
   "cell_type": "markdown",
   "metadata": {},
   "source": [
    "## 반복문"
   ]
  },
  {
   "cell_type": "code",
   "execution_count": 37,
   "metadata": {},
   "outputs": [
    {
     "name": "stdout",
     "output_type": "stream",
     "text": [
      "1\n",
      "2\n",
      "3\n",
      "4\n",
      "5\n"
     ]
    }
   ],
   "source": [
    "i = 0\n",
    "\n",
    "# while i < 5 : print(i)\n",
    "# 계속 무한루프로 돌아감\n",
    "\n",
    "while i < 5 : \n",
    "    i = i + 1\n",
    "    print(i)"
   ]
  },
  {
   "cell_type": "code",
   "execution_count": 40,
   "metadata": {},
   "outputs": [
    {
     "name": "stdout",
     "output_type": "stream",
     "text": [
      "1\n",
      "3\n",
      "5\n"
     ]
    }
   ],
   "source": [
    "i = 0\n",
    "\n",
    "while i < 5 : \n",
    "    i = i + 1\n",
    "    if i % 2 == 0 : continue\n",
    "    print(i)"
   ]
  },
  {
   "cell_type": "code",
   "execution_count": 41,
   "metadata": {},
   "outputs": [
    {
     "name": "stdout",
     "output_type": "stream",
     "text": [
      "1\n",
      "3\n"
     ]
    }
   ],
   "source": [
    "i = 0\n",
    "\n",
    "while i < 5 : \n",
    "    i = i + 1\n",
    "    if i % 2 == 0 : continue\n",
    "    if i >= 4 : break\n",
    "    print(i)"
   ]
  },
  {
   "cell_type": "markdown",
   "metadata": {},
   "source": [
    "## 리스트를 결합해서 딕셔너리 만들기\n",
    "\n",
    "## > zip() : 결합"
   ]
  },
  {
   "cell_type": "code",
   "execution_count": 29,
   "metadata": {},
   "outputs": [
    {
     "name": "stdout",
     "output_type": "stream",
     "text": [
      "[28, 65, 73, 57, 18, 40, 5, 52, 76, 63]\n",
      "['FAIL', '재시험', 'PASS', 'FAIL', 'FAIL', 'FAIL', 'FAIL', 'FAIL', 'PASS', '재시험']\n"
     ]
    }
   ],
   "source": [
    "print(lst)\n",
    "print(result)"
   ]
  },
  {
   "cell_type": "code",
   "execution_count": 30,
   "metadata": {},
   "outputs": [
    {
     "name": "stdout",
     "output_type": "stream",
     "text": [
      "{28: 'FAIL', 65: '재시험', 73: 'PASS', 57: 'FAIL', 18: 'FAIL', 40: 'FAIL', 5: 'FAIL', 52: 'FAIL', 76: 'PASS', 63: '재시험'}\n"
     ]
    }
   ],
   "source": [
    "dic={}\n",
    "jumsu=dict(zip(lst,result))\n",
    "print(jumsu)"
   ]
  },
  {
   "cell_type": "code",
   "execution_count": 31,
   "metadata": {},
   "outputs": [
    {
     "name": "stdout",
     "output_type": "stream",
     "text": [
      "FAIL\n"
     ]
    }
   ],
   "source": [
    "print(jumsu[28])"
   ]
  },
  {
   "cell_type": "code",
   "execution_count": 32,
   "metadata": {},
   "outputs": [
    {
     "name": "stdout",
     "output_type": "stream",
     "text": [
      "76\n"
     ]
    }
   ],
   "source": [
    "print(max(jumsu.keys()))"
   ]
  },
  {
   "cell_type": "code",
   "execution_count": 33,
   "metadata": {},
   "outputs": [
    {
     "name": "stdout",
     "output_type": "stream",
     "text": [
      "(76, 'PASS')\n"
     ]
    }
   ],
   "source": [
    "print(max(zip(jumsu.keys(),jumsu.values())))"
   ]
  }
 ],
 "metadata": {
  "kernelspec": {
   "display_name": "Python 3",
   "language": "python",
   "name": "python3"
  },
  "language_info": {
   "codemirror_mode": {
    "name": "ipython",
    "version": 3
   },
   "file_extension": ".py",
   "mimetype": "text/x-python",
   "name": "python",
   "nbconvert_exporter": "python",
   "pygments_lexer": "ipython3",
   "version": "3.7.3"
  }
 },
 "nbformat": 4,
 "nbformat_minor": 2
}
