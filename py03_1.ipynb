{
 "cells": [
  {
   "cell_type": "markdown",
   "metadata": {},
   "source": [
    "# 함수"
   ]
  },
  {
   "cell_type": "code",
   "execution_count": 1,
   "metadata": {},
   "outputs": [],
   "source": [
    "def myfun() : \n",
    "    print('hello')"
   ]
  },
  {
   "cell_type": "code",
   "execution_count": 2,
   "metadata": {},
   "outputs": [
    {
     "name": "stdout",
     "output_type": "stream",
     "text": [
      "hello\n"
     ]
    }
   ],
   "source": [
    "myfun()"
   ]
  },
  {
   "cell_type": "code",
   "execution_count": 5,
   "metadata": {},
   "outputs": [],
   "source": [
    "def myfun2(n) : \n",
    "    for i in range(n) :\n",
    "        print(i,': hello')"
   ]
  },
  {
   "cell_type": "code",
   "execution_count": 6,
   "metadata": {},
   "outputs": [
    {
     "name": "stdout",
     "output_type": "stream",
     "text": [
      "0 : hello\n",
      "1 : hello\n",
      "2 : hello\n"
     ]
    }
   ],
   "source": [
    "myfun2(3)"
   ]
  },
  {
   "cell_type": "code",
   "execution_count": 7,
   "metadata": {},
   "outputs": [],
   "source": [
    "def myfun3(lst) :\n",
    "    for i in range(len(lst)) :\n",
    "        print(lst[i])"
   ]
  },
  {
   "cell_type": "code",
   "execution_count": 8,
   "metadata": {},
   "outputs": [
    {
     "name": "stdout",
     "output_type": "stream",
     "text": [
      "a\n",
      "b\n",
      "c\n"
     ]
    }
   ],
   "source": [
    "lst1 = ['a','b','c']\n",
    "myfun3(lst1)"
   ]
  },
  {
   "cell_type": "code",
   "execution_count": 11,
   "metadata": {},
   "outputs": [
    {
     "name": "stdout",
     "output_type": "stream",
     "text": [
      "21\n",
      "44\n",
      "11\n",
      "1\n",
      "2\n",
      "37\n"
     ]
    }
   ],
   "source": [
    "import random as r\n",
    "lst2=r.sample(list(range(46)),6)\n",
    "myfun3(lst2)"
   ]
  },
  {
   "cell_type": "code",
   "execution_count": 12,
   "metadata": {},
   "outputs": [],
   "source": [
    "def myfun4(x,y,op) :\n",
    "    if op == '+' : ans = x + y\n",
    "    elif op == '-' : ans = x - y\n",
    "    elif op == '*' : ans = x * y\n",
    "    elif op == '/' : ans = x / y\n",
    "        \n",
    "    print(x, op, y, '=', ans)"
   ]
  },
  {
   "cell_type": "code",
   "execution_count": 13,
   "metadata": {},
   "outputs": [
    {
     "name": "stdout",
     "output_type": "stream",
     "text": [
      "10 - 20 = -10\n"
     ]
    }
   ],
   "source": [
    "myfun4(10,20,'-')"
   ]
  },
  {
   "cell_type": "code",
   "execution_count": 14,
   "metadata": {},
   "outputs": [
    {
     "name": "stdout",
     "output_type": "stream",
     "text": [
      "10 * 20 = 200\n"
     ]
    }
   ],
   "source": [
    "myfun4(10,20,'*')"
   ]
  },
  {
   "cell_type": "code",
   "execution_count": 18,
   "metadata": {},
   "outputs": [],
   "source": [
    "def myfun41(x,y,op) :\n",
    "    if op in ['+','-','x','/'] :\n",
    "        if op == '+' : ans = x + y\n",
    "        elif op == '-' : ans = x - y\n",
    "        elif op == 'x' : ans = x * y\n",
    "        elif op == '/' : ans = x / y\n",
    "                \n",
    "        print(x, op, y, '=', ans)\n",
    "    else :\n",
    "        print('ERROR')"
   ]
  },
  {
   "cell_type": "code",
   "execution_count": 19,
   "metadata": {},
   "outputs": [
    {
     "name": "stdout",
     "output_type": "stream",
     "text": [
      "10 x 20 = 200\n"
     ]
    }
   ],
   "source": [
    "myfun41(10,20,'x')"
   ]
  },
  {
   "cell_type": "code",
   "execution_count": 20,
   "metadata": {},
   "outputs": [
    {
     "name": "stdout",
     "output_type": "stream",
     "text": [
      "ERROR\n"
     ]
    }
   ],
   "source": [
    "myfun41(10,20,'*')"
   ]
  },
  {
   "cell_type": "code",
   "execution_count": 22,
   "metadata": {},
   "outputs": [],
   "source": [
    "def myfun42(x,y,op) :\n",
    "    if op not in ['+','-','x','/'] :\n",
    "        print('ERROR')\n",
    "        return  # 함수 종료하고 싶을 때\n",
    "    \n",
    "    if op == '+' : ans = x + y\n",
    "    elif op == '-' : ans = x - y\n",
    "    elif op == 'x' : ans = x * y\n",
    "    elif op == '/' : ans = x / y\n",
    "                \n",
    "    print(x, op, y, '=', ans)\n"
   ]
  },
  {
   "cell_type": "code",
   "execution_count": 23,
   "metadata": {},
   "outputs": [
    {
     "name": "stdout",
     "output_type": "stream",
     "text": [
      "10 x 20 = 200\n"
     ]
    }
   ],
   "source": [
    "myfun42(10,20,'x')"
   ]
  },
  {
   "cell_type": "code",
   "execution_count": 24,
   "metadata": {},
   "outputs": [
    {
     "name": "stdout",
     "output_type": "stream",
     "text": [
      "ERROR\n"
     ]
    }
   ],
   "source": [
    "myfun42(10,20,'*')"
   ]
  },
  {
   "cell_type": "code",
   "execution_count": 29,
   "metadata": {},
   "outputs": [],
   "source": [
    "import random as r\n",
    "\n",
    "def myfun5(n) :\n",
    "    lst=r.sample(list(range(100)),n)\n",
    "    \n",
    "    return lst"
   ]
  },
  {
   "cell_type": "code",
   "execution_count": 30,
   "metadata": {},
   "outputs": [
    {
     "name": "stdout",
     "output_type": "stream",
     "text": [
      "69\n",
      "81\n",
      "15\n",
      "60\n",
      "72\n",
      "9\n",
      "71\n",
      "16\n",
      "68\n",
      "49\n"
     ]
    }
   ],
   "source": [
    "lst1 = myfun5(10)\n",
    "myfun3(lst1)"
   ]
  },
  {
   "cell_type": "code",
   "execution_count": 33,
   "metadata": {},
   "outputs": [
    {
     "name": "stdout",
     "output_type": "stream",
     "text": [
      "6\n",
      "2\n",
      "65\n",
      "4\n",
      "37\n"
     ]
    }
   ],
   "source": [
    "lst2 = myfun5(5)\n",
    "myfun3(lst2)"
   ]
  },
  {
   "cell_type": "code",
   "execution_count": 35,
   "metadata": {},
   "outputs": [
    {
     "name": "stdout",
     "output_type": "stream",
     "text": [
      "35\n",
      "39\n",
      "6\n"
     ]
    }
   ],
   "source": [
    "myfun3(myfun5(3))"
   ]
  },
  {
   "cell_type": "code",
   "execution_count": 36,
   "metadata": {},
   "outputs": [],
   "source": [
    "def myfun31(n) :\n",
    "    lst = r.sample(list(range(100)),n)\n",
    "    \n",
    "    return lst,lst*2"
   ]
  },
  {
   "cell_type": "code",
   "execution_count": 38,
   "metadata": {},
   "outputs": [
    {
     "name": "stdout",
     "output_type": "stream",
     "text": [
      "[46, 52, 47]\n",
      "[46, 52, 47, 46, 52, 47]\n"
     ]
    }
   ],
   "source": [
    "l1, l2 = myfun31(3)\n",
    "\n",
    "print(l1)\n",
    "print(l2)"
   ]
  },
  {
   "cell_type": "code",
   "execution_count": 40,
   "metadata": {},
   "outputs": [],
   "source": [
    "def rcsv(filename) :\n",
    "    lst1 = []\n",
    "    lst2 = []\n",
    "    \n",
    "    f = open(filename,'r')\n",
    "    data = f.readlines()\n",
    "    f.close()\n",
    "    \n",
    "    for line in data :\n",
    "        line = line.replace('\\n','')\n",
    "        item = line.split(',')\n",
    "        \n",
    "        lst1.append(item[0])\n",
    "        lst2.append(item[1])\n",
    "        \n",
    "    return lst1, lst2\n",
    "\n",
    "# lst1, lst2 를 lst 하나만 만들면 변수가 한 개인 모든 데이터를 읽어올 수 있음.\n",
    "# 그 때 변수가 두 개 이상이라면 for in 구문을 여러개 사용하여 리스트를 여러개 만들면 됨."
   ]
  },
  {
   "cell_type": "code",
   "execution_count": 43,
   "metadata": {},
   "outputs": [
    {
     "name": "stdout",
     "output_type": "stream",
     "text": [
      "['종목명', '삼성전자', '남영비비안', 'SK하이닉스', '후성', '플리토', '메지온', '삼륭물산', '이아이디', '삼성전기', '헬릭스미스']\n",
      "['현재가', '47450', '9170', '79900', '10400', '37850', '103300', '9330', '422', '97700', '218700']\n"
     ]
    }
   ],
   "source": [
    "lst1, lst2 = rcsv('증권정보.csv')\n",
    "print(lst1)\n",
    "print(lst2)"
   ]
  },
  {
   "cell_type": "code",
   "execution_count": 44,
   "metadata": {},
   "outputs": [
    {
     "name": "stdout",
     "output_type": "stream",
     "text": [
      "['서울', '부산', '대구', '인천', '광주', '대전', '울산', '세종', '경기', '강원', '충북', '충남', '전북', '전남', '경북', '경남', '제주']\n",
      "['20', '26', '24', '24', '25', '22', '26', '23', '24', '23', '26', '22', '24', '23', '28', '29', '26']\n"
     ]
    }
   ],
   "source": [
    "lst1, lst2 = rcsv('도별미세먼지.csv')\n",
    "print(lst1)\n",
    "print(lst2)"
   ]
  },
  {
   "cell_type": "code",
   "execution_count": 45,
   "metadata": {},
   "outputs": [
    {
     "name": "stdout",
     "output_type": "stream",
     "text": [
      "['김수연', '이지연']\n",
      "['89', '80']\n"
     ]
    }
   ],
   "source": [
    "lst1, lst2 = rcsv('jumsu.txt')\n",
    "print(lst1)\n",
    "print(lst2)"
   ]
  },
  {
   "cell_type": "code",
   "execution_count": null,
   "metadata": {},
   "outputs": [],
   "source": []
  }
 ],
 "metadata": {
  "kernelspec": {
   "display_name": "Python 3",
   "language": "python",
   "name": "python3"
  },
  "language_info": {
   "codemirror_mode": {
    "name": "ipython",
    "version": 3
   },
   "file_extension": ".py",
   "mimetype": "text/x-python",
   "name": "python",
   "nbconvert_exporter": "python",
   "pygments_lexer": "ipython3",
   "version": "3.7.3"
  }
 },
 "nbformat": 4,
 "nbformat_minor": 2
}
