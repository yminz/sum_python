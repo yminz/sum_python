{
 "cells": [
  {
   "cell_type": "markdown",
   "metadata": {},
   "source": [
    "# 문자열"
   ]
  },
  {
   "cell_type": "code",
   "execution_count": 2,
   "metadata": {},
   "outputs": [
    {
     "name": "stdout",
     "output_type": "stream",
     "text": [
      "no pain no gain\n"
     ]
    }
   ],
   "source": [
    "str='no pain no gain'\n",
    "print(str)"
   ]
  },
  {
   "cell_type": "code",
   "execution_count": 3,
   "metadata": {},
   "outputs": [
    {
     "name": "stdout",
     "output_type": "stream",
     "text": [
      "no \t pain \t no gain\n"
     ]
    }
   ],
   "source": [
    "str='no \\t pain \\t no gain'\n",
    "print(str)"
   ]
  },
  {
   "cell_type": "code",
   "execution_count": 4,
   "metadata": {},
   "outputs": [
    {
     "name": "stdout",
     "output_type": "stream",
     "text": [
      "no \n",
      " pain \n",
      " no gain\n"
     ]
    }
   ],
   "source": [
    "str='no \\n pain \\n no gain'\n",
    "print(str)"
   ]
  },
  {
   "cell_type": "code",
   "execution_count": 35,
   "metadata": {},
   "outputs": [
    {
     "name": "stdout",
     "output_type": "stream",
     "text": [
      "15\n"
     ]
    }
   ],
   "source": [
    "# 문자열 길이 : len (공백, 쉼표 등 따옴표 안에 있는 것 모두 셈)\n",
    "str='no pain no gain'\n",
    "print(len(str))"
   ]
  },
  {
   "cell_type": "code",
   "execution_count": 36,
   "metadata": {},
   "outputs": [
    {
     "name": "stdout",
     "output_type": "stream",
     "text": [
      "첫번째 문자 : n\n",
      "마지막 문자 : n\n",
      "마지막 문자 : n\n",
      "마지막 문자 : n\n"
     ]
    }
   ],
   "source": [
    "# 문자열 인덱싱 : 위치\n",
    "str='no pain no gain'\n",
    "\n",
    "print('첫번째 문자 :', str[0])\n",
    "\n",
    "print('마지막 문자 :', str[-1])\n",
    "print('마지막 문자 :', str[14])\n",
    "print('마지막 문자 :', str[len(str)-1])"
   ]
  },
  {
   "cell_type": "code",
   "execution_count": 37,
   "metadata": {},
   "outputs": [
    {
     "name": "stdout",
     "output_type": "stream",
     "text": [
      "no pa\n",
      "no pa\n",
      " pain \n",
      "o pain no ga\n"
     ]
    }
   ],
   "source": [
    "# 문자 슬라이싱 (마지막 첨자는 들어가지 않음)\n",
    "str='no pain no gain'\n",
    "\n",
    "print(str[0:5])\n",
    "print(str[:5])\n",
    "print(str[2:8])\n",
    "print(str[1:-2])"
   ]
  },
  {
   "cell_type": "code",
   "execution_count": 38,
   "metadata": {},
   "outputs": [
    {
     "name": "stdout",
     "output_type": "stream",
     "text": [
      "2\n",
      "2\n"
     ]
    }
   ],
   "source": [
    "# 문자(열) 개수 세기 : count\n",
    "str='no pain no gain'\n",
    "\n",
    "print(str.count('a'))\n",
    "print(str.count('ai'))"
   ]
  },
  {
   "cell_type": "code",
   "execution_count": 39,
   "metadata": {},
   "outputs": [
    {
     "name": "stdout",
     "output_type": "stream",
     "text": [
      "4\n",
      "4\n"
     ]
    }
   ],
   "source": [
    "# 문자 위치 찾기\n",
    "str='no pain no gain'\n",
    "\n",
    "print(str.find('a'))\n",
    "print(str.index('a')) # 없으면 오류뜸"
   ]
  },
  {
   "cell_type": "code",
   "execution_count": 40,
   "metadata": {},
   "outputs": [
    {
     "name": "stdout",
     "output_type": "stream",
     "text": [
      "NO PAIN NO GAIN\n",
      "no pain no gain\n",
      "No pain no gain\n",
      "No Pain No Gain\n",
      "nO pAIN nO gAIN\n"
     ]
    }
   ],
   "source": [
    "# 대소문자 변경\n",
    "str='no pain no gain'\n",
    "\n",
    "str=str.upper()\n",
    "print(str)\n",
    "\n",
    "str=str.lower()\n",
    "print(str)\n",
    "\n",
    "str=str.capitalize() # 첫문자만 대문자\n",
    "print(str)\n",
    "\n",
    "str=str.title() # 단어 첫글자 대문자\n",
    "print(str)\n",
    "\n",
    "str=str.swapcase() # 대소문자 switch\n",
    "print(str)"
   ]
  },
  {
   "cell_type": "code",
   "execution_count": 47,
   "metadata": {},
   "outputs": [
    {
     "name": "stdout",
     "output_type": "stream",
     "text": [
      "no  : 3\n",
      "no : 2\n"
     ]
    }
   ],
   "source": [
    "str='no pain no gain.'\n",
    "\n",
    "str1=str[:3]\n",
    "print(str1,\":\",len(str1))\n",
    "\n",
    "str1=str1.strip() # 공백 제거\n",
    "print(str1,\":\",len(str1))"
   ]
  },
  {
   "cell_type": "code",
   "execution_count": 48,
   "metadata": {},
   "outputs": [
    {
     "name": "stdout",
     "output_type": "stream",
     "text": [
      "no pain no gain.\n"
     ]
    }
   ],
   "source": [
    "print(str)"
   ]
  },
  {
   "cell_type": "code",
   "execution_count": 52,
   "metadata": {},
   "outputs": [
    {
     "name": "stdout",
     "output_type": "stream",
     "text": [
      "no pain no gain\n",
      "no pain no gain\n"
     ]
    }
   ],
   "source": [
    "# 문자열 내 문자 제거\n",
    "str2=str.strip(\".\")\n",
    "print(str2)\n",
    "\n",
    "str3=str.replace(\".\",\"\")\n",
    "print(str3)"
   ]
  },
  {
   "cell_type": "code",
   "execution_count": 57,
   "metadata": {},
   "outputs": [
    {
     "name": "stdout",
     "output_type": "stream",
     "text": [
      "n!o! !p!a!i!n! !n!o! !g!a!i!n\n",
      "n-o- -p-a-i-n- -n-o- -g-a-i-n\n",
      "n-o--p-a-i-n--n-o--g-a-i-n\n"
     ]
    }
   ],
   "source": [
    "# 단어 사이 문자 추가\n",
    "str4=\"!\".join(str2)\n",
    "print(str4)\n",
    "\n",
    "str4=str4.replace(\"!\",\"-\")\n",
    "print(str4)\n",
    "\n",
    "str4=str4.replace(\" \",\"\")\n",
    "print(str4)"
   ]
  },
  {
   "cell_type": "code",
   "execution_count": 58,
   "metadata": {},
   "outputs": [
    {
     "name": "stdout",
     "output_type": "stream",
     "text": [
      "['n', 'o', '', 'p', 'a', 'i', 'n', '', 'n', 'o', '', 'g', 'a', 'i', 'n']\n"
     ]
    }
   ],
   "source": [
    "# 단어 분리\n",
    "str5=str4.split('-')\n",
    "print(str5)"
   ]
  },
  {
   "cell_type": "code",
   "execution_count": 64,
   "metadata": {},
   "outputs": [
    {
     "name": "stdout",
     "output_type": "stream",
     "text": [
      "찾고자하는 단어를 입력하세요국민\n",
      "국민 는 2 번 사용되었습니다.\n"
     ]
    }
   ],
   "source": [
    "str6='국민 여러분의 위대한 선택에 머리 숙여 깊이 감사드립니다. 저는 오늘 대한민국 제19대 대통령으로서 새로운 대한민국을 향해 첫걸음을 내딛습니다. 지금 제 두 어깨 는 국민 여러분으로부터 부여받은 막중한 소명감으로 무겁습니다. 지금 제 가슴은 한번도 경험하지 못한 나라를 만들겠다는 열정으로 뜨겁습니다. 그리고 지금 제 머리는 통합과 공존의 새로운 세상을 열어갈 청사진으로 가득 차 있습니다.'\n",
    "w=input(\"찾고자하는 단어를 입력하세요\")\n",
    "print(w, '는', str6.count(w), '번 사용되었습니다.')"
   ]
  },
  {
   "cell_type": "code",
   "execution_count": null,
   "metadata": {},
   "outputs": [],
   "source": []
  }
 ],
 "metadata": {
  "kernelspec": {
   "display_name": "Python 3",
   "language": "python",
   "name": "python3"
  },
  "language_info": {
   "codemirror_mode": {
    "name": "ipython",
    "version": 3
   },
   "file_extension": ".py",
   "mimetype": "text/x-python",
   "name": "python",
   "nbconvert_exporter": "python",
   "pygments_lexer": "ipython3",
   "version": "3.7.3"
  }
 },
 "nbformat": 4,
 "nbformat_minor": 2
}
