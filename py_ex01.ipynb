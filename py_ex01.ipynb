{
 "cells": [
  {
   "cell_type": "markdown",
   "metadata": {},
   "source": [
    "# 실습문제 1"
   ]
  },
  {
   "cell_type": "code",
   "execution_count": 15,
   "metadata": {},
   "outputs": [
    {
     "name": "stdout",
     "output_type": "stream",
     "text": [
      "['삼성전자', '남영비비안', 'SK하이닉스', '후성', '플리토', '매지온', '삼륭물산', '이아이디', '삼성전기', '헬릭스미스']\n"
     ]
    }
   ],
   "source": [
    "stock=['삼성전자', '남영비비안', 'SK하이닉스', '후성', '플리토', '매지온', '삼륭물산', '이아이디', '삼성전기', '헬릭스미스']\n",
    "print(stock)"
   ]
  },
  {
   "cell_type": "code",
   "execution_count": 16,
   "metadata": {},
   "outputs": [
    {
     "name": "stdout",
     "output_type": "stream",
     "text": [
      "[47450, 9170, 79900, 10400, 37850, 103300, 9330, 422, 97700, 218700]\n"
     ]
    }
   ],
   "source": [
    "price=[47450, 9170, 79900, 10400, 37850, 103300, 9330, 422, 97700, 218700]\n",
    "print(price)"
   ]
  },
  {
   "cell_type": "code",
   "execution_count": 17,
   "metadata": {},
   "outputs": [
    {
     "name": "stdout",
     "output_type": "stream",
     "text": [
      "37850\n"
     ]
    }
   ],
   "source": [
    "# 플리토의 위치 찾기\n",
    "x=stock.index('플리토')\n",
    "print(price[x])"
   ]
  },
  {
   "cell_type": "code",
   "execution_count": 27,
   "metadata": {},
   "outputs": [
    {
     "name": "stdout",
     "output_type": "stream",
     "text": [
      "218700\n",
      "최대한재가 : 218700 ( 헬릭스미스 )\n"
     ]
    }
   ],
   "source": [
    "# 현재가가 최대금액인 종목찾기\n",
    "y=max(price)\n",
    "print(y)\n",
    "\n",
    "z=price.index(y)\n",
    "print('최대한재가 :',y,'(',stock[z],')')"
   ]
  },
  {
   "cell_type": "markdown",
   "metadata": {},
   "source": [
    "## 딕셔너리로 해결"
   ]
  },
  {
   "cell_type": "code",
   "execution_count": 31,
   "metadata": {},
   "outputs": [
    {
     "name": "stdout",
     "output_type": "stream",
     "text": [
      "{'삼성전자': 47450, '남영비비안': 9170, 'SK하이닉스': 79900, '후성': 10400, '플리토': 37850, '매지온': 103300, '삼륭물산': 9330, '이아이디': 422, '삼성전기': 97700, '헬릭스미스': 218700}\n"
     ]
    }
   ],
   "source": [
    "stock_price = dict(zip(stock, price))\n",
    "print(stock_price)"
   ]
  },
  {
   "cell_type": "code",
   "execution_count": 32,
   "metadata": {},
   "outputs": [
    {
     "name": "stdout",
     "output_type": "stream",
     "text": [
      "플리토 현재가 : 37850\n"
     ]
    }
   ],
   "source": [
    "print('플리토 현재가 :',stock_price['플리토'])"
   ]
  },
  {
   "cell_type": "code",
   "execution_count": 36,
   "metadata": {},
   "outputs": [
    {
     "name": "stdout",
     "output_type": "stream",
     "text": [
      "최대 현재가 : 218700\n",
      "최대 현재가 : (218700, '헬릭스미스')\n"
     ]
    }
   ],
   "source": [
    "print('최대 현재가 :',max(stock_price.values()))\n",
    "print('최대 현재가 :',max(zip(stock_price.values(),stock_price.keys())))"
   ]
  },
  {
   "cell_type": "markdown",
   "metadata": {},
   "source": [
    "## csv 파일 읽어서 처리"
   ]
  },
  {
   "cell_type": "code",
   "execution_count": 15,
   "metadata": {},
   "outputs": [
    {
     "name": "stdout",
     "output_type": "stream",
     "text": [
      "종목명,현재가,전일대비\n",
      "삼성전자,47450,250\n",
      "남영비비안,9170,2110\n",
      "SK하이닉스,79900,1500\n",
      "후성,10400,-450\n",
      "플리토,37850,2500\n",
      "메지온,103300,8500\n",
      "삼륭물산,9330,1760\n",
      "이아이디,422,-16\n",
      "삼성전기,97700,800\n",
      "헬릭스미스,218700,11700\n",
      "\n"
     ]
    }
   ],
   "source": [
    "f=open('증권정보.csv','r')\n",
    "data=f.read()\n",
    "f.close()\n",
    "print(data)"
   ]
  },
  {
   "cell_type": "code",
   "execution_count": 19,
   "metadata": {},
   "outputs": [
    {
     "name": "stdout",
     "output_type": "stream",
     "text": [
      "['종목명,현재가,전일대비', '삼성전자,47450,250', '남영비비안,9170,2110', 'SK하이닉스,79900,1500', '후성,10400,-450', '플리토,37850,2500', '메지온,103300,8500', '삼륭물산,9330,1760', '이아이디,422,-16', '삼성전기,97700,800', '헬릭스미스,218700,11700']\n"
     ]
    }
   ],
   "source": [
    "data=data.split('\\n')\n",
    "print(data)"
   ]
  },
  {
   "cell_type": "code",
   "execution_count": 23,
   "metadata": {},
   "outputs": [
    {
     "name": "stdout",
     "output_type": "stream",
     "text": [
      "['삼성전자,47450,250', '남영비비안,9170,2110', 'SK하이닉스,79900,1500', '후성,10400,-450', '플리토,37850,2500', '메지온,103300,8500', '삼륭물산,9330,1760', '이아이디,422,-16', '삼성전기,97700,800', '헬릭스미스,218700,11700']\n"
     ]
    }
   ],
   "source": [
    "lst=data[1:]\n",
    "print(lst)"
   ]
  },
  {
   "cell_type": "code",
   "execution_count": 32,
   "metadata": {},
   "outputs": [
    {
     "name": "stdout",
     "output_type": "stream",
     "text": [
      "플리토 현재가 : 37850\n"
     ]
    }
   ],
   "source": [
    "print('플리토 현재가 :',dic1['플리토'])"
   ]
  },
  {
   "cell_type": "code",
   "execution_count": 33,
   "metadata": {},
   "outputs": [
    {
     "name": "stdout",
     "output_type": "stream",
     "text": [
      "최대 현재가 : 218700\n",
      "최대 현재가 : (218700, '헬릭스미스')\n"
     ]
    }
   ],
   "source": [
    "print('최대 현재가 :',max(dic1.values()))\n",
    "print('최대 현재가 :',max(zip(dic1.values(),dic1.keys())))"
   ]
  },
  {
   "cell_type": "code",
   "execution_count": 34,
   "metadata": {},
   "outputs": [],
   "source": [
    "import matplotlib.pyplot as plt \n",
    "from matplotlib import font_manager, rc\n",
    "font_name = font_manager.FontProperties(fname=\"c:/Windows/Fonts/malgun.ttf\").get_name()\n",
    "rc('font', family=font_name)\n",
    "\n",
    "y=dic1.values()"
   ]
  },
  {
   "cell_type": "code",
   "execution_count": 35,
   "metadata": {},
   "outputs": [
    {
     "data": {
      "image/png": "[encoded data removed]",
      "text/plain": [
       "<Figure size 432x288 with 1 Axes>"
      ]
     },
     "metadata": {
      "needs_background": "light"
     },
     "output_type": "display_data"
    }
   ],
   "source": [
    "plt.plot(y)\n",
    "plt.show()"
   ]
  },
  {
   "cell_type": "code",
   "execution_count": 36,
   "metadata": {},
   "outputs": [
    {
     "data": {
      "image/png": "[encoded data removed]",
      "text/plain": [
       "<Figure size 432x288 with 1 Axes>"
      ]
     },
     "metadata": {
      "needs_background": "light"
     },
     "output_type": "display_data"
    }
   ],
   "source": [
    "x=range(len(y))\n",
    "x2=dic1.keys()\n",
    "\n",
    "plt.plot(y)\n",
    "plt.xticks(x,x2)\n",
    "plt.show()"
   ]
  },
  {
   "cell_type": "code",
   "execution_count": 40,
   "metadata": {
    "scrolled": true
   },
   "outputs": [
    {
     "data": {
      "image/png": "[encoded data removed]",
      "text/plain": [
       "<Figure size 432x288 with 1 Axes>"
      ]
     },
     "metadata": {
      "needs_background": "light"
     },
     "output_type": "display_data"
    }
   ],
   "source": [
    "y2=dic2.values()\n",
    "plt.plot(y2)\n",
    "plt.show()"
   ]
  },
  {
   "cell_type": "code",
   "execution_count": 41,
   "metadata": {},
   "outputs": [
    {
     "data": {
      "image/png": "[encoded data removed]",
      "text/plain": [
       "<Figure size 432x288 with 1 Axes>"
      ]
     },
     "metadata": {
      "needs_background": "light"
     },
     "output_type": "display_data"
    }
   ],
   "source": [
    "x=range(len(y2))\n",
    "x2=dic1.keys()\n",
    "\n",
    "plt.plot(y2)\n",
    "plt.xticks(x,x2)\n",
    "plt.show()"
   ]
  },
  {
   "cell_type": "code",
   "execution_count": null,
   "metadata": {},
   "outputs": [],
   "source": []
  }
 ],
 "metadata": {
  "kernelspec": {
   "display_name": "Python 3",
   "language": "python",
   "name": "python3"
  },
  "language_info": {
   "codemirror_mode": {
    "name": "ipython",
    "version": 3
   },
   "file_extension": ".py",
   "mimetype": "text/x-python",
   "name": "python",
   "nbconvert_exporter": "python",
   "pygments_lexer": "ipython3",
   "version": "3.7.3"
  }
 },
 "nbformat": 4,
 "nbformat_minor": 2
}
