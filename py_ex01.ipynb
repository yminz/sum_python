{
 "cells": [
  {
   "cell_type": "markdown",
   "metadata": {},
   "source": [
    "# 실습문제 1"
   ]
  },
  {
   "cell_type": "code",
   "execution_count": 15,
   "metadata": {},
   "outputs": [
    {
     "name": "stdout",
     "output_type": "stream",
     "text": [
      "['삼성전자', '남영비비안', 'SK하이닉스', '후성', '플리토', '매지온', '삼륭물산', '이아이디', '삼성전기', '헬릭스미스']\n"
     ]
    }
   ],
   "source": [
    "stock=['삼성전자', '남영비비안', 'SK하이닉스', '후성', '플리토', '매지온', '삼륭물산', '이아이디', '삼성전기', '헬릭스미스']\n",
    "print(stock)"
   ]
  },
  {
   "cell_type": "code",
   "execution_count": 16,
   "metadata": {},
   "outputs": [
    {
     "name": "stdout",
     "output_type": "stream",
     "text": [
      "[47450, 9170, 79900, 10400, 37850, 103300, 9330, 422, 97700, 218700]\n"
     ]
    }
   ],
   "source": [
    "price=[47450, 9170, 79900, 10400, 37850, 103300, 9330, 422, 97700, 218700]\n",
    "print(price)"
   ]
  },
  {
   "cell_type": "code",
   "execution_count": 17,
   "metadata": {},
   "outputs": [
    {
     "name": "stdout",
     "output_type": "stream",
     "text": [
      "37850\n"
     ]
    }
   ],
   "source": [
    "# 플리토의 위치 찾기\n",
    "x=stock.index('플리토')\n",
    "print(price[x])"
   ]
  },
  {
   "cell_type": "code",
   "execution_count": 27,
   "metadata": {},
   "outputs": [
    {
     "name": "stdout",
     "output_type": "stream",
     "text": [
      "218700\n",
      "최대한재가 : 218700 ( 헬릭스미스 )\n"
     ]
    }
   ],
   "source": [
    "# 현재가가 최대금액인 종목찾기\n",
    "y=max(price)\n",
    "print(y)\n",
    "\n",
    "z=price.index(y)\n",
    "print('최대한재가 :',y,'(',stock[z],')')"
   ]
  },
  {
   "cell_type": "code",
   "execution_count": null,
   "metadata": {},
   "outputs": [],
   "source": []
  }
 ],
 "metadata": {
  "kernelspec": {
   "display_name": "Python 3",
   "language": "python",
   "name": "python3"
  },
  "language_info": {
   "codemirror_mode": {
    "name": "ipython",
    "version": 3
   },
   "file_extension": ".py",
   "mimetype": "text/x-python",
   "name": "python",
   "nbconvert_exporter": "python",
   "pygments_lexer": "ipython3",
   "version": "3.7.3"
  }
 },
 "nbformat": 4,
 "nbformat_minor": 2
}
