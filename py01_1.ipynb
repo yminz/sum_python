{
 "cells": [
  {
   "cell_type": "markdown",
   "metadata": {},
   "source": [
    "# 파이썬 표준입출력"
   ]
  },
  {
   "cell_type": "code",
   "execution_count": 16,
   "metadata": {},
   "outputs": [
    {
     "name": "stdout",
     "output_type": "stream",
     "text": [
      "윤민지 안녕하세요.\n"
     ]
    }
   ],
   "source": [
    "# 표준출력\n",
    "print(\"윤민지 안녕하세요.\")"
   ]
  },
  {
   "cell_type": "code",
   "execution_count": 17,
   "metadata": {},
   "outputs": [
    {
     "name": "stdout",
     "output_type": "stream",
     "text": [
      "Hello\n",
      "World!\n"
     ]
    }
   ],
   "source": [
    "print(\"Hello\")\n",
    "print(\"World!\")"
   ]
  },
  {
   "cell_type": "code",
   "execution_count": 18,
   "metadata": {},
   "outputs": [
    {
     "name": "stdout",
     "output_type": "stream",
     "text": [
      "HelloWorld!\n",
      "Hello,World!\n"
     ]
    }
   ],
   "source": [
    "print(\"Hello\",end='')\n",
    "print(\"World!\")\n",
    "\n",
    "print(\"Hello\",end=',')\n",
    "print(\"World!\")"
   ]
  },
  {
   "cell_type": "code",
   "execution_count": 19,
   "metadata": {},
   "outputs": [
    {
     "name": "stdout",
     "output_type": "stream",
     "text": [
      "Hello World!\n",
      "HelloWorld!\n"
     ]
    }
   ],
   "source": [
    "print(\"Hello\",\"World!\")\n",
    "print(\"Hello\"+\"World!\")"
   ]
  },
  {
   "cell_type": "code",
   "execution_count": 20,
   "metadata": {},
   "outputs": [
    {
     "name": "stdout",
     "output_type": "stream",
     "text": [
      "4\n",
      "4\n"
     ]
    }
   ],
   "source": [
    "# 표준입력\n",
    "x=input()\n",
    "print(x)"
   ]
  },
  {
   "cell_type": "code",
   "execution_count": 21,
   "metadata": {},
   "outputs": [
    {
     "name": "stdout",
     "output_type": "stream",
     "text": [
      "x 입력 :10\n",
      "y 입력 :5\n"
     ]
    }
   ],
   "source": [
    "x=input(\"x 입력 :\")\n",
    "y=input(\"y 입력 :\")"
   ]
  },
  {
   "cell_type": "code",
   "execution_count": 22,
   "metadata": {},
   "outputs": [
    {
     "name": "stdout",
     "output_type": "stream",
     "text": [
      "10 + 5 = 105\n",
      "입력된 수는 10 입니다\n"
     ]
    }
   ],
   "source": [
    "print(x,'+',y,'=',x+y)\n",
    "print('입력된 수는',x,'입니다')"
   ]
  },
  {
   "cell_type": "code",
   "execution_count": 30,
   "metadata": {},
   "outputs": [
    {
     "name": "stdout",
     "output_type": "stream",
     "text": [
      "x 입력 :4\n",
      "y 입력 :5\n",
      "4 x 5 = 20\n",
      "4 / 5 = 0.8\n"
     ]
    }
   ],
   "source": [
    "# int : 문자 > 정수\n",
    "x=int(input(\"x 입력 :\"))\n",
    "y=int(input(\"y 입력 :\"))\n",
    "print(x,'x',y,'=',x*y)\n",
    "print(x,'/',y,'=',x/y)"
   ]
  },
  {
   "cell_type": "code",
   "execution_count": 33,
   "metadata": {},
   "outputs": [
    {
     "name": "stdout",
     "output_type": "stream",
     "text": [
      "x 입력 :4\n",
      "y 입력 :5\n",
      "4/5=0.8\n"
     ]
    }
   ],
   "source": [
    "# print(x+'/'+y+'='+(x/y))\n",
    "# 연결 연산자 + 는 문자만 연결시켜준다. 정수 > 문자 : str 사용\n",
    "\n",
    "x=int(input(\"x 입력 :\"))\n",
    "y=int(input(\"y 입력 :\"))\n",
    "print(str(x)+'/'+str(y)+'='+str(x/y))"
   ]
  },
  {
   "cell_type": "code",
   "execution_count": 36,
   "metadata": {},
   "outputs": [
    {
     "data": {
      "text/plain": [
       "int"
      ]
     },
     "execution_count": 36,
     "metadata": {},
     "output_type": "execute_result"
    }
   ],
   "source": [
    "# 데이터 타입 확인\n",
    "type(x)"
   ]
  },
  {
   "cell_type": "code",
   "execution_count": 37,
   "metadata": {},
   "outputs": [
    {
     "data": {
      "text/plain": [
       "float"
      ]
     },
     "execution_count": 37,
     "metadata": {},
     "output_type": "execute_result"
    }
   ],
   "source": [
    "# 데이터 타입 확인\n",
    "type(x/y)"
   ]
  },
  {
   "cell_type": "code",
   "execution_count": 39,
   "metadata": {},
   "outputs": [
    {
     "name": "stdout",
     "output_type": "stream",
     "text": [
      "소속을 입력하세요부산대학교\n",
      "성명을 입력하세요윤민지\n",
      "연락처를 입력하세요010-2250-6172\n",
      "이메일 주소를 입력하세요mj99106@naver.com\n",
      "+----------------+\n",
      "부산대학교\n",
      "윤민지\n",
      "010-2250-6172\n",
      "mj99106@naver.com\n",
      "+----------------+\n"
     ]
    }
   ],
   "source": [
    "w=input('소속을 입력하세요')\n",
    "x=input('성명을 입력하세요')\n",
    "y=input('연락처를 입력하세요')\n",
    "z=input('이메일 주소를 입력하세요')\n",
    "\n",
    "print('+----------------+')\n",
    "print(w)\n",
    "print(x)\n",
    "print(y)\n",
    "print(z)\n",
    "print('+----------------+')"
   ]
  },
  {
   "cell_type": "code",
   "execution_count": 40,
   "metadata": {},
   "outputs": [
    {
     "name": "stdout",
     "output_type": "stream",
     "text": [
      "[1, 2, 3, 'a']\n"
     ]
    }
   ],
   "source": [
    "# 리스트 : 숫자, 문자 모두 들어갈 수 있음\n",
    "list=[1,2,3,\"a\"]\n",
    "print(list)"
   ]
  },
  {
   "cell_type": "code",
   "execution_count": 42,
   "metadata": {},
   "outputs": [
    {
     "name": "stdout",
     "output_type": "stream",
     "text": [
      "{'a', 1, 2, 3}\n"
     ]
    }
   ],
   "source": [
    "# 튜플\n",
    "# 리스트와 차이점 : 리스트는 대괄호, 튜플은 중괄호 사용 / 리스트는 변형 가능, 튜플은 변형 불가능\n",
    "t={1,2,3,\"a\"}\n",
    "print(t)"
   ]
  },
  {
   "cell_type": "code",
   "execution_count": 44,
   "metadata": {},
   "outputs": [
    {
     "name": "stdout",
     "output_type": "stream",
     "text": [
      "{'a': 1, 'b': 2}\n"
     ]
    }
   ],
   "source": [
    "# 딕셔너리 : 쌍으로 이루어짐\n",
    "dic={'a':1, 'b':2}\n",
    "print(dic)\n",
    "\n",
    "# 리스트와 튜플은 순서가 정해져 있지만 딕셔너리는 순서 상관 없이 key 값으로 찾음"
   ]
  }
 ],
 "metadata": {
  "kernelspec": {
   "display_name": "Python 3",
   "language": "python",
   "name": "python3"
  },
  "language_info": {
   "codemirror_mode": {
    "name": "ipython",
    "version": 3
   },
   "file_extension": ".py",
   "mimetype": "text/x-python",
   "name": "python",
   "nbconvert_exporter": "python",
   "pygments_lexer": "ipython3",
   "version": "3.7.3"
  }
 },
 "nbformat": 4,
 "nbformat_minor": 2
}
